{
 "cells": [
  {
   "cell_type": "markdown",
   "source": [
    "# Springboard Data Science Career Track Unit 4 Challenge - Tier 3 Complete\n",
    "\n",
    "## Objectives\n",
    "Hey! Great job getting through those challenging DataCamp courses. You're learning a lot in a short span of time.\n",
    "\n",
    "In this notebook, you're going to apply the skills you've been learning, bridging the gap between the controlled environment of DataCamp and the *slightly* messier work that data scientists do with actual datasets!\n",
    "\n",
    "Here’s the mystery we’re going to solve: ***which boroughs of London have seen the greatest increase in housing prices, on average  over the last two decades?***\n",
    "\n",
    "\n",
    "A borough is just a fancy word for district. You may be familiar with the five boroughs of New York… well, there are 32 boroughs within Greater London [(here's some info for the curious)](https://en.wikipedia.org/wiki/London_boroughs). Some of them are more desirable areas to live in, and the data will reflect that with a greater rise in housing prices.\n",
    "\n",
    "***This is the Tier 3 notebook, which means it's not filled in at all: we'll just give you the skeleton of a project, the brief and the data. It's up to you to play around with it and see what you can find out! Good luck! If you struggle, feel free to look at easier tiers for help; but try to dip in and out of them, as the more independent work you do, the better it is for your learning!***\n",
    "\n",
    "This challenge will make use of only what you learned in the following DataCamp courses:\n",
    "- Prework courses (Introduction to Python for Data Science, Intermediate Python for Data Science)\n",
    "- Data Types for Data Science\n",
    "- Python Data Science Toolbox (Part One)\n",
    "- pandas Foundations\n",
    "- Manipulating DataFrames with pandas\n",
    "- Merging DataFrames with pandas\n",
    "\n",
    "Of the tools, techniques and concepts in the above DataCamp courses, this challenge should require the application of the following:\n",
    "- **pandas**\n",
    "    - **data ingestion and inspection** (pandas Foundations, Module One)\n",
    "    - **exploratory data analysis** (pandas Foundations, Module Two)\n",
    "    - **tidying and cleaning** (Manipulating DataFrames with pandas, Module Three)\n",
    "    - **transforming DataFrames** (Manipulating DataFrames with pandas, Module One)\n",
    "    - **subsetting DataFrames with lists** (Manipulating DataFrames with pandas, Module One)\n",
    "    - **filtering DataFrames** (Manipulating DataFrames with pandas, Module One)\n",
    "    - **grouping data** (Manipulating DataFrames with pandas, Module Four)\n",
    "    - **melting data** (Manipulating DataFrames with pandas, Module Three)\n",
    "    - **advanced indexing** (Manipulating DataFrames with pandas, Module Four)\n",
    "- **matplotlib** (Intermediate Python for Data Science, Module One)\n",
    "- **fundamental data types** (Data Types for Data Science, Module One)\n",
    "- **dictionaries** (Intermediate Python for Data Science, Module Two)\n",
    "- **handling dates and times** (Data Types for Data Science, Module Four)\n",
    "- **function definition** (Python Data Science Toolbox - Part One, Module One)\n",
    "- **default arguments, variable length, and scope** (Python Data Science Toolbox - Part One, Module Two)\n",
    "- **lambda functions and error handling** (Python Data Science Toolbox - Part One, Module Four)"
   ],
   "metadata": {
    "collapsed": false
   }
  },
  {
   "cell_type": "markdown",
   "source": [
    "## The Data Science Pipeline\n",
    "\n",
    "This is Tier Three, so we'll get you started. But after that, it's all in your hands! When you feel done with your investigations, look back over what you've accomplished, and prepare a quick presentation of your findings for the next mentor meeting.\n",
    "\n",
    "Data Science is magical. In this case study, you'll get to apply some complex machine learning algorithms. But as  [David Spiegelhalter](https://www.youtube.com/watch?v=oUs1uvsz0Ok) reminds us, there is no substitute for simply **taking a really, really good look at the data.** Sometimes, this is all we need to answer our question.\n",
    "\n",
    "Data Science projects generally adhere to the four stages of Data Science Pipeline:\n",
    "1. Sourcing and loading\n",
    "2. Cleaning, transforming, and visualizing\n",
    "3. Modeling\n",
    "4. Evaluating and concluding\n"
   ],
   "metadata": {
    "collapsed": false
   }
  },
  {
   "cell_type": "markdown",
   "source": [
    "### 1. Sourcing and Loading\n",
    "\n",
    "Any Data Science project kicks off by importing  ***pandas***. The documentation of this wonderful library can be found [here](https://pandas.pydata.org/). As you've seen, pandas is conveniently connected to the [Numpy](http://www.numpy.org/) and [Matplotlib](https://matplotlib.org/) libraries.\n",
    "\n",
    "***Hint:*** This part of the data science pipeline will test those skills you acquired in the pandas Foundations course, Module One."
   ],
   "metadata": {
    "collapsed": false
   }
  },
  {
   "cell_type": "markdown",
   "source": [
    "#### 1.1. Importing Libraries"
   ],
   "metadata": {
    "collapsed": false
   }
  },
  {
   "cell_type": "code",
   "execution_count": 1,
   "outputs": [],
   "source": [
    "# Let's import the pandas, numpy libraries as pd, and np respectively.\n",
    "import pandas as pd\n",
    "import numpy as np\n",
    "# Load the pyplot collection of functions from matplotlib, as plt\n",
    "import matplotlib.pyplot as plt"
   ],
   "metadata": {
    "collapsed": false,
    "pycharm": {
     "name": "#%%\n"
    }
   }
  },
  {
   "cell_type": "markdown",
   "source": [
    "#### 1.2.  Loading the data\n",
    "Your data comes from the [London Datastore](https://data.london.gov.uk/): a free, open-source data-sharing portal for London-oriented datasets."
   ],
   "metadata": {
    "collapsed": false
   }
  },
  {
   "cell_type": "code",
   "execution_count": 2,
   "outputs": [],
   "source": [
    "# First, make a variable called url_LondonHousePrices, and assign it the following link, enclosed in quotation-marks as a string:\n",
    "# https://data.london.gov.uk/download/uk-house-price-index/70ac0766-8902-4eb5-aab5-01951aaed773/UK%20House%20price%20index.xls\n",
    "\n",
    "url_LondonHousePrices = \"https://data.london.gov.uk/download/uk-house-price-index/70ac0766-8902-4eb5-aab5-01951aaed773/UK%20House%20price%20index.xls\"\n",
    "\n",
    "# The dataset we're interested in contains the Average prices of the houses, and is actually on a particular sheet of the Excel file.\n",
    "# As a result, we need to specify the sheet name in the read_excel() method.\n",
    "# Put this data into a variable called properties.\n",
    "\n",
    "properties = pd.read_excel(url_LondonHousePrices, sheet_name='Average price', index_col= None)"
   ],
   "metadata": {
    "collapsed": false,
    "pycharm": {
     "name": "#%%\n"
    }
   }
  },
  {
   "cell_type": "markdown",
   "source": [
    "### 2. Cleaning, transforming, and visualizing\n",
    "This second stage is arguably the most important part of any Data Science project. The first thing to do is take a proper look at the data. Cleaning forms the majority of this stage, and can be done both before or after Transformation.\n",
    "\n",
    "The end goal of data cleaning is to have tidy data. When data is tidy:\n",
    "\n",
    "1. Each variable has a column.\n",
    "2. Each observation forms a row.\n",
    "\n",
    "Keep the end goal in mind as you move through this process, every step will take you closer.\n",
    "\n",
    "***Hint:*** This part of the data science pipeline should test those skills you acquired in:\n",
    "- Intermediate Python for data science, all modules.\n",
    "- pandas Foundations, all modules.\n",
    "- Manipulating DataFrames with pandas, all modules.\n",
    "- Data Types for Data Science, Module Four.\n",
    "- Python Data Science Toolbox - Part One, all modules"
   ],
   "metadata": {
    "collapsed": false
   }
  },
  {
   "cell_type": "markdown",
   "source": [
    "**2.1. Exploring your data**\n",
    "\n",
    "Think about your pandas functions for checking out a dataframe."
   ],
   "metadata": {
    "collapsed": false
   }
  },
  {
   "cell_type": "code",
   "execution_count": 3,
   "outputs": [
    {
     "name": "stdout",
     "output_type": "stream",
     "text": [
      "  Unnamed: 0 City of London Barking & Dagenham     Barnet     Bexley  \\\n",
      "0        NaT      E09000001          E09000002  E09000003  E09000004   \n",
      "1 1995-01-01          91449            50460.2    93284.5    64958.1   \n",
      "2 1995-02-01        82202.8            51085.8    93190.2    64787.9   \n",
      "3 1995-03-01        79120.7              51269    92247.5    64367.5   \n",
      "4 1995-04-01        77101.2            53133.5    90762.9    64277.7   \n",
      "\n",
      "       Brent    Bromley     Camden    Croydon     Ealing  ... NORTH WEST  \\\n",
      "0  E09000005  E09000006  E09000007  E09000008  E09000009  ...  E12000002   \n",
      "1    71306.6    81671.5     120933    69158.2    79885.9  ...    43958.5   \n",
      "2    72022.3    81657.6     119509    68951.1    80897.1  ...    43925.4   \n",
      "3    72015.8    81449.3     120282    68712.4    81379.9  ...    44434.9   \n",
      "4    72965.6    81124.4     120098      68610    82188.9  ...    44267.8   \n",
      "\n",
      "  YORKS & THE HUMBER EAST MIDLANDS WEST MIDLANDS EAST OF ENGLAND     LONDON  \\\n",
      "0          E12000003     E12000004     E12000005       E12000006  E12000007   \n",
      "1            44803.4       45544.5       48527.5         56701.6    74435.8   \n",
      "2            44528.8       46051.6       49341.3         56593.6    72777.9   \n",
      "3            45200.5       45383.8       49442.2         56171.2    73896.8   \n",
      "4            45614.3       46124.2       49455.9         56567.9    74455.3   \n",
      "\n",
      "  SOUTH EAST SOUTH WEST Unnamed: 47    England  \n",
      "0  E12000008  E12000009         NaN  E92000001  \n",
      "1    64018.9    54705.2         NaN    53202.8  \n",
      "2      63715    54356.1         NaN    53096.2  \n",
      "3    64113.6    53583.1         NaN    53201.3  \n",
      "4    64623.2      54786         NaN    53590.9  \n",
      "\n",
      "[5 rows x 49 columns]\n",
      "<class 'pandas.core.frame.DataFrame'>\n",
      "RangeIndex: 311 entries, 0 to 310\n",
      "Data columns (total 49 columns):\n",
      " #   Column                Non-Null Count  Dtype         \n",
      "---  ------                --------------  -----         \n",
      " 0   Unnamed: 0            310 non-null    datetime64[ns]\n",
      " 1   City of London        311 non-null    object        \n",
      " 2   Barking & Dagenham    311 non-null    object        \n",
      " 3   Barnet                311 non-null    object        \n",
      " 4   Bexley                311 non-null    object        \n",
      " 5   Brent                 311 non-null    object        \n",
      " 6   Bromley               311 non-null    object        \n",
      " 7   Camden                311 non-null    object        \n",
      " 8   Croydon               311 non-null    object        \n",
      " 9   Ealing                311 non-null    object        \n",
      " 10  Enfield               311 non-null    object        \n",
      " 11  Greenwich             311 non-null    object        \n",
      " 12  Hackney               311 non-null    object        \n",
      " 13  Hammersmith & Fulham  311 non-null    object        \n",
      " 14  Haringey              311 non-null    object        \n",
      " 15  Harrow                311 non-null    object        \n",
      " 16  Havering              311 non-null    object        \n",
      " 17  Hillingdon            311 non-null    object        \n",
      " 18  Hounslow              311 non-null    object        \n",
      " 19  Islington             311 non-null    object        \n",
      " 20  Kensington & Chelsea  311 non-null    object        \n",
      " 21  Kingston upon Thames  311 non-null    object        \n",
      " 22  Lambeth               311 non-null    object        \n",
      " 23  Lewisham              311 non-null    object        \n",
      " 24  Merton                311 non-null    object        \n",
      " 25  Newham                311 non-null    object        \n",
      " 26  Redbridge             311 non-null    object        \n",
      " 27  Richmond upon Thames  311 non-null    object        \n",
      " 28  Southwark             311 non-null    object        \n",
      " 29  Sutton                311 non-null    object        \n",
      " 30  Tower Hamlets         311 non-null    object        \n",
      " 31  Waltham Forest        311 non-null    object        \n",
      " 32  Wandsworth            311 non-null    object        \n",
      " 33  Westminster           311 non-null    object        \n",
      " 34  Unnamed: 34           0 non-null      float64       \n",
      " 35  Inner London          311 non-null    object        \n",
      " 36  Outer London          311 non-null    object        \n",
      " 37  Unnamed: 37           0 non-null      float64       \n",
      " 38  NORTH EAST            311 non-null    object        \n",
      " 39  NORTH WEST            311 non-null    object        \n",
      " 40  YORKS & THE HUMBER    311 non-null    object        \n",
      " 41  EAST MIDLANDS         311 non-null    object        \n",
      " 42  WEST MIDLANDS         311 non-null    object        \n",
      " 43  EAST OF ENGLAND       311 non-null    object        \n",
      " 44  LONDON                311 non-null    object        \n",
      " 45  SOUTH EAST            311 non-null    object        \n",
      " 46  SOUTH WEST            311 non-null    object        \n",
      " 47  Unnamed: 47           0 non-null      float64       \n",
      " 48  England               311 non-null    object        \n",
      "dtypes: datetime64[ns](1), float64(3), object(45)\n",
      "memory usage: 119.2+ KB\n",
      "None\n"
     ]
    }
   ],
   "source": [
    "print(properties.head())\n",
    "print(properties.info())"
   ],
   "metadata": {
    "collapsed": false,
    "pycharm": {
     "name": "#%%\n"
    }
   }
  },
  {
   "cell_type": "markdown",
   "source": [
    "**2.2. Cleaning the data**\n",
    "\n",
    "You might find you need to transpose your dataframe, check out what its row indexes are, and reset the index. You  also might find you need to assign the values of the first row to your column headings  . (Hint: recall the .columns feature of DataFrames, as well as the iloc[] method).\n",
    "\n",
    "Don't be afraid to use StackOverflow for help  with this."
   ],
   "metadata": {
    "collapsed": false
   }
  },
  {
   "cell_type": "code",
   "execution_count": 4,
   "outputs": [
    {
     "data": {
      "text/plain": "0    Unnamed: 0        NaN 1995-01-01 00:00:00 1995-02-01 00:00:00  \\\n44       LONDON  E12000007             74435.8             72777.9   \n45   SOUTH EAST  E12000008             64018.9               63715   \n46   SOUTH WEST  E12000009             54705.2             54356.1   \n47  Unnamed: 47        NaN                 NaN                 NaN   \n48      England  E92000001             53202.8             53096.2   \n\n0  1995-03-01 00:00:00 1995-04-01 00:00:00 1995-05-01 00:00:00  \\\n44             73896.8             74455.3               75432   \n45             64113.6             64623.2             64530.4   \n46             53583.1               54786             54698.8   \n47                 NaN                 NaN                 NaN   \n48             53201.3             53590.9             53678.2   \n\n0  1995-06-01 00:00:00 1995-07-01 00:00:00 1995-08-01 00:00:00  ...  \\\n44             75606.2             75984.2             75529.3  ...   \n45               65511             65224.9             64851.6  ...   \n46             54420.2             54265.9             54365.7  ...   \n47                 NaN                 NaN                 NaN  ...   \n48             53735.2             53900.6             53600.3  ...   \n\n0  2020-01-01 00:00:00 2020-02-01 00:00:00 2020-03-01 00:00:00  \\\n44              476632              475368              482748   \n45              322252              318822              324063   \n46              257639              256659              260121   \n47                 NaN                 NaN                 NaN   \n48              247649              246640              250634   \n\n0  2020-04-01 00:00:00 2020-05-01 00:00:00 2020-06-01 00:00:00  \\\n44              473948              470083              478038   \n45              325585              321852              322662   \n46              256531              255734              259599   \n47                 NaN                 NaN                 NaN   \n48              245938              246220              249298   \n\n0  2020-07-01 00:00:00 2020-08-01 00:00:00 2020-09-01 00:00:00  \\\n44              484709              492084              496736   \n45              326941              331706              336074   \n46              265373              266429              273163   \n47                 NaN                 NaN                 NaN   \n48              250179              252875              256774   \n\n0  2020-10-01 00:00:00  \n44              490936  \n45              337412  \n46              274319  \n47                 NaN  \n48              259159  \n\n[5 rows x 312 columns]",
      "text/html": "<div>\n<style scoped>\n    .dataframe tbody tr th:only-of-type {\n        vertical-align: middle;\n    }\n\n    .dataframe tbody tr th {\n        vertical-align: top;\n    }\n\n    .dataframe thead th {\n        text-align: right;\n    }\n</style>\n<table border=\"1\" class=\"dataframe\">\n  <thead>\n    <tr style=\"text-align: right;\">\n      <th></th>\n      <th>Unnamed: 0</th>\n      <th>NaN</th>\n      <th>1995-01-01 00:00:00</th>\n      <th>1995-02-01 00:00:00</th>\n      <th>1995-03-01 00:00:00</th>\n      <th>1995-04-01 00:00:00</th>\n      <th>1995-05-01 00:00:00</th>\n      <th>1995-06-01 00:00:00</th>\n      <th>1995-07-01 00:00:00</th>\n      <th>1995-08-01 00:00:00</th>\n      <th>...</th>\n      <th>2020-01-01 00:00:00</th>\n      <th>2020-02-01 00:00:00</th>\n      <th>2020-03-01 00:00:00</th>\n      <th>2020-04-01 00:00:00</th>\n      <th>2020-05-01 00:00:00</th>\n      <th>2020-06-01 00:00:00</th>\n      <th>2020-07-01 00:00:00</th>\n      <th>2020-08-01 00:00:00</th>\n      <th>2020-09-01 00:00:00</th>\n      <th>2020-10-01 00:00:00</th>\n    </tr>\n  </thead>\n  <tbody>\n    <tr>\n      <th>44</th>\n      <td>LONDON</td>\n      <td>E12000007</td>\n      <td>74435.8</td>\n      <td>72777.9</td>\n      <td>73896.8</td>\n      <td>74455.3</td>\n      <td>75432</td>\n      <td>75606.2</td>\n      <td>75984.2</td>\n      <td>75529.3</td>\n      <td>...</td>\n      <td>476632</td>\n      <td>475368</td>\n      <td>482748</td>\n      <td>473948</td>\n      <td>470083</td>\n      <td>478038</td>\n      <td>484709</td>\n      <td>492084</td>\n      <td>496736</td>\n      <td>490936</td>\n    </tr>\n    <tr>\n      <th>45</th>\n      <td>SOUTH EAST</td>\n      <td>E12000008</td>\n      <td>64018.9</td>\n      <td>63715</td>\n      <td>64113.6</td>\n      <td>64623.2</td>\n      <td>64530.4</td>\n      <td>65511</td>\n      <td>65224.9</td>\n      <td>64851.6</td>\n      <td>...</td>\n      <td>322252</td>\n      <td>318822</td>\n      <td>324063</td>\n      <td>325585</td>\n      <td>321852</td>\n      <td>322662</td>\n      <td>326941</td>\n      <td>331706</td>\n      <td>336074</td>\n      <td>337412</td>\n    </tr>\n    <tr>\n      <th>46</th>\n      <td>SOUTH WEST</td>\n      <td>E12000009</td>\n      <td>54705.2</td>\n      <td>54356.1</td>\n      <td>53583.1</td>\n      <td>54786</td>\n      <td>54698.8</td>\n      <td>54420.2</td>\n      <td>54265.9</td>\n      <td>54365.7</td>\n      <td>...</td>\n      <td>257639</td>\n      <td>256659</td>\n      <td>260121</td>\n      <td>256531</td>\n      <td>255734</td>\n      <td>259599</td>\n      <td>265373</td>\n      <td>266429</td>\n      <td>273163</td>\n      <td>274319</td>\n    </tr>\n    <tr>\n      <th>47</th>\n      <td>Unnamed: 47</td>\n      <td>NaN</td>\n      <td>NaN</td>\n      <td>NaN</td>\n      <td>NaN</td>\n      <td>NaN</td>\n      <td>NaN</td>\n      <td>NaN</td>\n      <td>NaN</td>\n      <td>NaN</td>\n      <td>...</td>\n      <td>NaN</td>\n      <td>NaN</td>\n      <td>NaN</td>\n      <td>NaN</td>\n      <td>NaN</td>\n      <td>NaN</td>\n      <td>NaN</td>\n      <td>NaN</td>\n      <td>NaN</td>\n      <td>NaN</td>\n    </tr>\n    <tr>\n      <th>48</th>\n      <td>England</td>\n      <td>E92000001</td>\n      <td>53202.8</td>\n      <td>53096.2</td>\n      <td>53201.3</td>\n      <td>53590.9</td>\n      <td>53678.2</td>\n      <td>53735.2</td>\n      <td>53900.6</td>\n      <td>53600.3</td>\n      <td>...</td>\n      <td>247649</td>\n      <td>246640</td>\n      <td>250634</td>\n      <td>245938</td>\n      <td>246220</td>\n      <td>249298</td>\n      <td>250179</td>\n      <td>252875</td>\n      <td>256774</td>\n      <td>259159</td>\n    </tr>\n  </tbody>\n</table>\n<p>5 rows × 312 columns</p>\n</div>"
     },
     "execution_count": 4,
     "metadata": {},
     "output_type": "execute_result"
    }
   ],
   "source": [
    "properties_T = properties.T.reset_index()\n",
    "properties_T.columns = properties_T.iloc[0]\n",
    "# print(properties_T)\n",
    "properties_T = properties_T.drop(0)\n",
    "properties_T.tail()"
   ],
   "metadata": {
    "collapsed": false,
    "pycharm": {
     "name": "#%%\n"
    }
   }
  },
  {
   "cell_type": "markdown",
   "source": [
    "**2.3. Cleaning the data (part 2)**\n",
    "\n",
    "You might we have to **rename** a couple columns. How do you do this? The clue's pretty bold..."
   ],
   "metadata": {
    "collapsed": false
   }
  },
  {
   "cell_type": "code",
   "execution_count": 5,
   "outputs": [
    {
     "data": {
      "text/plain": "0      London Borough         ID 1995-01-01 00:00:00 1995-02-01 00:00:00  \\\n1      City of London  E09000001               91449             82202.8   \n2  Barking & Dagenham  E09000002             50460.2             51085.8   \n3              Barnet  E09000003             93284.5             93190.2   \n4              Bexley  E09000004             64958.1             64787.9   \n5               Brent  E09000005             71306.6             72022.3   \n\n0 1995-03-01 00:00:00 1995-04-01 00:00:00 1995-05-01 00:00:00  \\\n1             79120.7             77101.2             84409.1   \n2               51269             53133.5             53042.2   \n3             92247.5             90762.9               90258   \n4             64367.5             64277.7             63997.1   \n5             72015.8             72965.6               73704   \n\n0 1995-06-01 00:00:00 1995-07-01 00:00:00 1995-08-01 00:00:00  ...  \\\n1             94900.5              110128              112329  ...   \n2             53700.3             52113.1             52232.2  ...   \n3             90107.2             91441.2             92361.3  ...   \n4             64252.3             63722.7             64432.6  ...   \n5             74310.5               74127               73547  ...   \n\n0 2020-01-01 00:00:00 2020-02-01 00:00:00 2020-03-01 00:00:00  \\\n1              773679              792769              828658   \n2              303054              302748              301570   \n3              521612              516411              522770   \n4              336863              338817              339095   \n5              428436              469962              465941   \n\n0 2020-04-01 00:00:00 2020-05-01 00:00:00 2020-06-01 00:00:00  \\\n1              900126              904803              869929   \n2              293553              292478              299074   \n3              529115              527494              517266   \n4              341997              338857              340723   \n5              469583              481570              485388   \n\n0 2020-07-01 00:00:00 2020-08-01 00:00:00 2020-09-01 00:00:00  \\\n1              785001              794881              768714   \n2              303701              304696              301170   \n3              521528              525762              535663   \n4              343385              348046              345461   \n5              485619              496606              522546   \n\n0 2020-10-01 00:00:00  \n1              721490  \n2              308583  \n3              536263  \n4              344254  \n5              518636  \n\n[5 rows x 312 columns]",
      "text/html": "<div>\n<style scoped>\n    .dataframe tbody tr th:only-of-type {\n        vertical-align: middle;\n    }\n\n    .dataframe tbody tr th {\n        vertical-align: top;\n    }\n\n    .dataframe thead th {\n        text-align: right;\n    }\n</style>\n<table border=\"1\" class=\"dataframe\">\n  <thead>\n    <tr style=\"text-align: right;\">\n      <th></th>\n      <th>London Borough</th>\n      <th>ID</th>\n      <th>1995-01-01 00:00:00</th>\n      <th>1995-02-01 00:00:00</th>\n      <th>1995-03-01 00:00:00</th>\n      <th>1995-04-01 00:00:00</th>\n      <th>1995-05-01 00:00:00</th>\n      <th>1995-06-01 00:00:00</th>\n      <th>1995-07-01 00:00:00</th>\n      <th>1995-08-01 00:00:00</th>\n      <th>...</th>\n      <th>2020-01-01 00:00:00</th>\n      <th>2020-02-01 00:00:00</th>\n      <th>2020-03-01 00:00:00</th>\n      <th>2020-04-01 00:00:00</th>\n      <th>2020-05-01 00:00:00</th>\n      <th>2020-06-01 00:00:00</th>\n      <th>2020-07-01 00:00:00</th>\n      <th>2020-08-01 00:00:00</th>\n      <th>2020-09-01 00:00:00</th>\n      <th>2020-10-01 00:00:00</th>\n    </tr>\n  </thead>\n  <tbody>\n    <tr>\n      <th>1</th>\n      <td>City of London</td>\n      <td>E09000001</td>\n      <td>91449</td>\n      <td>82202.8</td>\n      <td>79120.7</td>\n      <td>77101.2</td>\n      <td>84409.1</td>\n      <td>94900.5</td>\n      <td>110128</td>\n      <td>112329</td>\n      <td>...</td>\n      <td>773679</td>\n      <td>792769</td>\n      <td>828658</td>\n      <td>900126</td>\n      <td>904803</td>\n      <td>869929</td>\n      <td>785001</td>\n      <td>794881</td>\n      <td>768714</td>\n      <td>721490</td>\n    </tr>\n    <tr>\n      <th>2</th>\n      <td>Barking &amp; Dagenham</td>\n      <td>E09000002</td>\n      <td>50460.2</td>\n      <td>51085.8</td>\n      <td>51269</td>\n      <td>53133.5</td>\n      <td>53042.2</td>\n      <td>53700.3</td>\n      <td>52113.1</td>\n      <td>52232.2</td>\n      <td>...</td>\n      <td>303054</td>\n      <td>302748</td>\n      <td>301570</td>\n      <td>293553</td>\n      <td>292478</td>\n      <td>299074</td>\n      <td>303701</td>\n      <td>304696</td>\n      <td>301170</td>\n      <td>308583</td>\n    </tr>\n    <tr>\n      <th>3</th>\n      <td>Barnet</td>\n      <td>E09000003</td>\n      <td>93284.5</td>\n      <td>93190.2</td>\n      <td>92247.5</td>\n      <td>90762.9</td>\n      <td>90258</td>\n      <td>90107.2</td>\n      <td>91441.2</td>\n      <td>92361.3</td>\n      <td>...</td>\n      <td>521612</td>\n      <td>516411</td>\n      <td>522770</td>\n      <td>529115</td>\n      <td>527494</td>\n      <td>517266</td>\n      <td>521528</td>\n      <td>525762</td>\n      <td>535663</td>\n      <td>536263</td>\n    </tr>\n    <tr>\n      <th>4</th>\n      <td>Bexley</td>\n      <td>E09000004</td>\n      <td>64958.1</td>\n      <td>64787.9</td>\n      <td>64367.5</td>\n      <td>64277.7</td>\n      <td>63997.1</td>\n      <td>64252.3</td>\n      <td>63722.7</td>\n      <td>64432.6</td>\n      <td>...</td>\n      <td>336863</td>\n      <td>338817</td>\n      <td>339095</td>\n      <td>341997</td>\n      <td>338857</td>\n      <td>340723</td>\n      <td>343385</td>\n      <td>348046</td>\n      <td>345461</td>\n      <td>344254</td>\n    </tr>\n    <tr>\n      <th>5</th>\n      <td>Brent</td>\n      <td>E09000005</td>\n      <td>71306.6</td>\n      <td>72022.3</td>\n      <td>72015.8</td>\n      <td>72965.6</td>\n      <td>73704</td>\n      <td>74310.5</td>\n      <td>74127</td>\n      <td>73547</td>\n      <td>...</td>\n      <td>428436</td>\n      <td>469962</td>\n      <td>465941</td>\n      <td>469583</td>\n      <td>481570</td>\n      <td>485388</td>\n      <td>485619</td>\n      <td>496606</td>\n      <td>522546</td>\n      <td>518636</td>\n    </tr>\n  </tbody>\n</table>\n<p>5 rows × 312 columns</p>\n</div>"
     },
     "execution_count": 5,
     "metadata": {},
     "output_type": "execute_result"
    }
   ],
   "source": [
    "properties_T = properties_T.rename({'Unnamed: 0':'London Borough', pd.NaT:'ID'}, axis='columns')\n",
    "properties_T.head()"
   ],
   "metadata": {
    "collapsed": false,
    "pycharm": {
     "name": "#%%\n"
    }
   }
  },
  {
   "cell_type": "markdown",
   "source": [
    "**2.4.Transforming the data**\n",
    "\n",
    "Remember what Wes McKinney said about tidy data?\n",
    "\n",
    "You might need to **melt** your DataFrame here."
   ],
   "metadata": {
    "collapsed": false
   }
  },
  {
   "cell_type": "code",
   "execution_count": 6,
   "outputs": [
    {
     "data": {
      "text/plain": "London Borough    14880\nID                13950\nMonth             14880\nAverage Price     13950\ndtype: int64"
     },
     "execution_count": 6,
     "metadata": {},
     "output_type": "execute_result"
    }
   ],
   "source": [
    "borough_by_month = pd.melt(properties_T,  id_vars=['London Borough', 'ID'], var_name='Month', value_name='Average Price')\n",
    "borough_by_month.count()"
   ],
   "metadata": {
    "collapsed": false,
    "pycharm": {
     "name": "#%%\n"
    }
   }
  },
  {
   "cell_type": "markdown",
   "source": [
    "Remember to make sure your column data types are all correct. Average prices, for example, should be floating point numbers..."
   ],
   "metadata": {
    "collapsed": false
   }
  },
  {
   "cell_type": "code",
   "execution_count": 7,
   "outputs": [
    {
     "data": {
      "text/plain": "London Borough            object\nID                        object\nMonth             datetime64[ns]\nAverage Price             object\ndtype: object"
     },
     "execution_count": 7,
     "metadata": {},
     "output_type": "execute_result"
    }
   ],
   "source": [
    "borough_by_month.dtypes\n"
   ],
   "metadata": {
    "collapsed": false,
    "pycharm": {
     "name": "#%%\n"
    }
   }
  },
  {
   "cell_type": "markdown",
   "source": [
    "**2.5. Cleaning the data (part 3)**\n",
    "\n",
    "Do we have an equal number of observations in the ID, Average Price, Month, and London Borough columns? Remember that there are only 32 London Boroughs. How many entries do you have in that column?\n",
    "\n",
    "Check out the contents of the London Borough column, and if you find null values, get rid of them however you see fit."
   ],
   "metadata": {
    "collapsed": false
   }
  },
  {
   "cell_type": "code",
   "execution_count": 8,
   "outputs": [
    {
     "data": {
      "text/plain": "London Borough    13950\nID                13950\nMonth             13950\nAverage Price     13950\ndtype: int64"
     },
     "execution_count": 8,
     "metadata": {},
     "output_type": "execute_result"
    }
   ],
   "source": [
    "borough_by_month['London Borough'].unique()\n",
    "# borough_by_month.count()\n",
    "# borough_by_month.loc[borough_by_month['London Borough'] == 'Unnamed: 47']\n",
    "# borough_by_month.loc[borough_by_month['ID'].isna()]\n",
    "borough_by_month = borough_by_month.dropna()\n",
    "borough_by_month.count()"
   ],
   "metadata": {
    "collapsed": false,
    "pycharm": {
     "name": "#%%\n"
    }
   }
  },
  {
   "cell_type": "markdown",
   "source": [
    "**2.6. Visualizing the data**\n",
    "\n",
    "To visualize the data, why not subset on a particular London Borough? Maybe do a line plot of Month against Average Price?"
   ],
   "metadata": {
    "collapsed": false
   }
  },
  {
   "cell_type": "code",
   "execution_count": 9,
   "outputs": [
    {
     "data": {
      "text/plain": "Text(0, 0.5, 'Price')"
     },
     "execution_count": 9,
     "metadata": {},
     "output_type": "execute_result"
    },
    {
     "data": {
      "text/plain": "<Figure size 432x288 with 1 Axes>",
      "image/png": "[encoded data removed]"
     },
     "metadata": {
      "needs_background": "light"
     },
     "output_type": "display_data"
    }
   ],
   "source": [
    "brent = borough_by_month['London Borough'] == 'Brent'\n",
    "brent_prices = borough_by_month.loc[brent]\n",
    "ax = brent_prices.plot(kind='line', x='Month', y='Average Price')\n",
    "ax.set_ylabel('Price')"
   ],
   "metadata": {
    "collapsed": false,
    "pycharm": {
     "name": "#%%\n"
    }
   }
  },
  {
   "cell_type": "markdown",
   "source": [
    "\n",
    "\n",
    "To limit the number of data points you have, you might want to extract the year from every month value your *Month* column.\n",
    "\n",
    "To this end, you *could* apply a ***lambda function***. Your logic could work as follows:\n",
    "1. look through the `Month` column\n",
    "2. extract the year from each individual value in that column\n",
    "3. store that corresponding year as separate column.\n",
    "\n",
    "Whether you go ahead with this is up to you. Just so long as you answer our initial brief: which boroughs of London have seen the greatest house price increase, on average  over the past two decades?"
   ],
   "metadata": {
    "collapsed": false
   }
  },
  {
   "cell_type": "code",
   "execution_count": 9,
   "outputs": [],
   "source": [],
   "metadata": {
    "collapsed": false,
    "pycharm": {
     "name": "#%%\n"
    }
   }
  },
  {
   "cell_type": "code",
   "execution_count": 10,
   "outputs": [
    {
     "name": "stdout",
     "output_type": "stream",
     "text": [
      "        London Borough  Year  Average Price\n",
      "0   Barking & Dagenham  1995   51817.969390\n",
      "1   Barking & Dagenham  1996   51718.192690\n",
      "2   Barking & Dagenham  1997   55974.262309\n",
      "3   Barking & Dagenham  1998   60285.821083\n",
      "4   Barking & Dagenham  1999   65320.934441\n",
      "5   Barking & Dagenham  2000   77549.513290\n",
      "6   Barking & Dagenham  2001   88664.058223\n",
      "7   Barking & Dagenham  2002  112221.912482\n",
      "8   Barking & Dagenham  2003  142498.927800\n",
      "9   Barking & Dagenham  2004  158175.982483\n",
      "10  Barking & Dagenham  2005  163360.782017\n",
      "11  Barking & Dagenham  2006  167853.342558\n",
      "12  Barking & Dagenham  2007  184909.807383\n",
      "13  Barking & Dagenham  2008  187356.865783\n",
      "14  Barking & Dagenham  2009  156446.896358\n",
      "15  Barking & Dagenham  2010  166560.705275\n",
      "16  Barking & Dagenham  2011  163465.144225\n",
      "17  Barking & Dagenham  2012  165863.911600\n",
      "18  Barking & Dagenham  2013  173733.624933\n",
      "19  Barking & Dagenham  2014  201172.229417\n",
      "20  Barking & Dagenham  2015  233460.107425\n",
      "21  Barking & Dagenham  2016  273919.636042\n",
      "22  Barking & Dagenham  2017  287734.717358\n",
      "23  Barking & Dagenham  2018  295196.673612\n",
      "24  Barking & Dagenham  2019  298620.203492\n",
      "25  Barking & Dagenham  2020  301062.770890\n",
      "26              Barnet  1995   91792.537433\n",
      "27              Barnet  1996   94000.445448\n",
      "28              Barnet  1997  106883.185546\n",
      "29              Barnet  1998  122359.468033\n"
     ]
    }
   ],
   "source": [
    "# borough_by_month['Year'] = borough_by_month['Month'].apply(lambda t: t.year)\n",
    "# print(borough_by_month.groupby('Average Price').resample('10A', on='Month'))\n",
    "# borough_by_month = borough_by_month.set_index('Month')\n",
    "# borough_by_month.resample('10A')\n",
    "# borough_by_month = borough_by_month.set_index('London Borough')\n",
    "# borough_by_month.head()\n",
    "# borough_by_month['Month'] = pd.to_datetime(borough_by_month['Month'])\n",
    "# print(type(borough_by_month['Month'][0]))\n",
    "\n",
    "borough_by_month['Year'] = borough_by_month['Month'].apply(lambda t: t.year)\n",
    "borough_by_month['Average Price'] = pd.to_numeric(borough_by_month['Average Price'])\n",
    "borough_by_year_mean = borough_by_month.groupby(['London Borough', 'Year']).mean()\n",
    "\n",
    "borough_by_year_mean = borough_by_year_mean.reset_index()\n",
    "print(borough_by_year_mean.head(30))"
   ],
   "metadata": {
    "collapsed": false,
    "pycharm": {
     "name": "#%%\n"
    }
   }
  },
  {
   "cell_type": "markdown",
   "source": [
    "**3. Modeling**\n",
    "\n",
    "Consider creating a function that will calculate a ratio of house prices, comparing the price of a house in 2018 to the price in 1998.\n",
    "\n",
    "Consider calling this function create_price_ratio.\n",
    "\n",
    "You'd want this function to:\n",
    "1. Take a filter of dfg, specifically where this filter constrains the London_Borough, as an argument. For example, one admissible argument should be: dfg[dfg['London_Borough']=='Camden'].\n",
    "2. Get the Average Price for that Borough, for the years 1998 and 2018.\n",
    "4. Calculate the ratio of the Average Price for 1998 divided by the Average Price for 2018.\n",
    "5. Return that ratio.\n",
    "\n",
    "Once you've written this function, you ultimately want to use it to iterate through all the unique London_Boroughs and work out the ratio capturing the difference of house prices between 1998 and 2018.\n",
    "\n",
    "Bear in mind: you don't have to write a function like this if you don't want to. If you can solve the brief otherwise, then great!\n",
    "\n",
    "***Hint***: This section should test the skills you acquired in:\n",
    "- Python Data Science Toolbox - Part One, all modules"
   ],
   "metadata": {
    "collapsed": false
   }
  },
  {
   "cell_type": "code",
   "execution_count": 11,
   "outputs": [],
   "source": [
    "def get_1998_to_2018_ratio(borough):\n",
    "    borough_name = borough_by_year_mean['London Borough'] == borough\n",
    "    y1998 = borough_by_year_mean['Year'] == 1998\n",
    "    y2018 = borough_by_year_mean['Year'] == 2018\n",
    "    borough1998 = borough_by_year_mean.loc[borough_name & y1998]\n",
    "    borough2018 = borough_by_year_mean.loc[borough_name & y2018]\n",
    "    ratio = float(borough2018['Average Price']) / float(borough1998['Average Price'])\n",
    "    return ratio\n",
    "\n",
    "borough_20year_sale_ratio = {}\n",
    "for borough in borough_by_year_mean['London Borough'].unique():\n",
    "    key = borough\n",
    "    value = get_1998_to_2018_ratio(borough)\n",
    "    borough_20year_sale_ratio.update({key:value})\n",
    "\n"
   ],
   "metadata": {
    "collapsed": false,
    "pycharm": {
     "name": "#%%\n"
    }
   }
  },
  {
   "cell_type": "markdown",
   "source": [],
   "metadata": {
    "collapsed": false
   }
  },
  {
   "cell_type": "code",
   "execution_count": 13,
   "outputs": [
    {
     "name": "stdout",
     "output_type": "stream",
     "text": [
      "    London Borough      2018\n",
      "14         Hackney  6.198286\n",
      "41  Waltham Forest  5.834756\n",
      "37       Southwark  5.516485\n",
      "27        Lewisham  5.449221\n",
      "43     Westminster  5.353565\n",
      "        London Borough      2018\n",
      "8        EAST MIDLANDS  3.632735\n",
      "30          NORTH WEST  3.363416\n",
      "44  YORKS & THE HUMBER  3.356065\n",
      "40       WEST MIDLANDS  3.311262\n",
      "29          NORTH EAST  2.828081\n"
     ]
    },
    {
     "data": {
      "text/plain": "<Figure size 432x288 with 1 Axes>",
      "image/png": "[encoded data removed]"
     },
     "metadata": {
      "needs_background": "light"
     },
     "output_type": "display_data"
    }
   ],
   "source": [
    "# print(borough_20year_sale_ratio)\n",
    "df_ratios = pd.DataFrame(borough_20year_sale_ratio, index=[0])\n",
    "df_ratios = df_ratios.T.reset_index()\n",
    "df_ratios = df_ratios.rename({'index':'London Borough', 0:'2018'}, axis='columns')\n",
    "df_ratios = df_ratios.sort_values(by='2018', ascending=False)\n",
    "ax = df_ratios[['London Borough', '2018']].plot(kind='bar')\n",
    "# top15 = df_ratios.sort_values(by='2018', ascending=False).head(15)\n",
    "# top15.head()\n",
    "# ax = top15[['London Borough','2018']].plot(kind='bar')\n",
    "ax.set_xticklabels(df_ratios['London Borough'])\n",
    "print(df_ratios.head())\n",
    "print(df_ratios.tail())"
   ],
   "metadata": {
    "collapsed": false,
    "pycharm": {
     "name": "#%%\n"
    }
   }
  },
  {
   "cell_type": "markdown",
   "source": [
    "### 4. Conclusion\n",
    "What can you conclude? Type out your conclusion below.\n",
    "\n",
    "- Conclusion is that the borough, Hackney, has seen the greatest increase in sales price on average, from year 1998 to 2018, compared to all other boroughs.\n",
    "Hackney has ratio of approximately 6.198, which means that it's average sales price has nearly sextupled from its 1998 sales price. The lowest increase from 1998 to 2018 would be North East\n",
    "with only an increase by about 2.828\n",
    "\n",
    "Look back at your notebook. Think about how you might summarize what you have done, and prepare a quick presentation on it to your mentor at your next meeting.\n",
    "\n",
    "We hope you enjoyed this practical project. It should have consolidated your data hygiene and pandas skills by looking at a real-world problem involving just the kind of dataset you might encounter as a budding data scientist. Congratulations, and looking forward to seeing you at the next step in the course!"
   ],
   "metadata": {
    "collapsed": false,
    "pycharm": {
     "name": "#%% md\n"
    }
   }
  }
 ],
 "metadata": {
  "colab": {
   "collapsed_sections": [],
   "name": "Springboard Data Science Career Track Unit 4 Challenge - Tier 3 Complete .ipynb",
   "provenance": []
  },
  "kernelspec": {
   "display_name": "Python 3",
   "language": "python",
   "name": "python3"
  },
  "language_info": {
   "codemirror_mode": {
    "name": "ipython",
    "version": 3
   },
   "file_extension": ".py",
   "mimetype": "text/x-python",
   "name": "python",
   "nbconvert_exporter": "python",
   "pygments_lexer": "ipython3",
   "version": "3.8.6"
  }
 },
 "nbformat": 4,
 "nbformat_minor": 1
}